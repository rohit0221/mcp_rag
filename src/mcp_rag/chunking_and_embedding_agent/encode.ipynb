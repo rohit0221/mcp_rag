{
 "cells": [
  {
   "cell_type": "code",
   "execution_count": 1,
   "metadata": {},
   "outputs": [
    {
     "name": "stdout",
     "output_type": "stream",
     "text": [
      "✅ Encoded attention.pdf → ./data/pdfs_b64\\attention.pdf.b64\n"
     ]
    }
   ],
   "source": [
    "# scripts/encode_pdfs_to_base64.py\n",
    "\n",
    "import os\n",
    "import base64\n",
    "\n",
    "input_dir = \"./data/pdfs\"         # folder with your PDFs\n",
    "output_dir = \"./data/pdfs_b64\"    # folder to save encoded versions\n",
    "os.makedirs(output_dir, exist_ok=True)\n",
    "\n",
    "for filename in os.listdir(input_dir):\n",
    "    if filename.lower().endswith(\".pdf\"):\n",
    "        input_path = os.path.join(input_dir, filename)\n",
    "        output_path = os.path.join(output_dir, f\"{filename}.b64\")\n",
    "\n",
    "        with open(input_path, \"rb\") as f:\n",
    "            encoded = base64.b64encode(f.read()).decode(\"utf-8\")\n",
    "\n",
    "        with open(output_path, \"w\", encoding=\"utf-8\") as out:\n",
    "            out.write(encoded)\n",
    "\n",
    "        print(f\"✅ Encoded {filename} → {output_path}\")\n"
   ]
  }
 ],
 "metadata": {
  "kernelspec": {
   "display_name": "mcp-rag-wEjWUeBJ-py3.11",
   "language": "python",
   "name": "python3"
  },
  "language_info": {
   "codemirror_mode": {
    "name": "ipython",
    "version": 3
   },
   "file_extension": ".py",
   "mimetype": "text/x-python",
   "name": "python",
   "nbconvert_exporter": "python",
   "pygments_lexer": "ipython3",
   "version": "3.11.0"
  }
 },
 "nbformat": 4,
 "nbformat_minor": 2
}
